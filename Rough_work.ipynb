{
 "cells": [
  {
   "cell_type": "code",
   "execution_count": 10,
   "id": "a98aad04-58ba-49cd-82f7-4c35518e0b7e",
   "metadata": {},
   "outputs": [],
   "source": [
    "import re\n",
    "\n",
    "text = \"This is text with a link [to boot dev](https://www.boot.dev) and [to youtube](https://www.youtube.com/@bootdotdev)\"\n",
    "lines = re.split(r\"(?<!!)\\[([^\\[\\]]*)\\]\\(([^\\(\\)]*)\\)\",text)"
   ]
  },
  {
   "cell_type": "code",
   "execution_count": 5,
   "id": "aeaf1ee6-dc63-4447-a63d-cae35da5d12b",
   "metadata": {},
   "outputs": [],
   "source": [
    "import os \n",
    "import shutil\n",
    "def static_to_public():\n",
    "    if not os.path.exists(\"static\"):\n",
    "        raise Exception(\"Static folder not found\")\n",
    "    if os.path.exists(\"public\"):\n",
    "        shutil.rmtree(\"public\")\n",
    "    os.mkdir(\"public\")\n",
    "    recursive_copy(\"static\",\"public\")\n",
    "\n",
    "\n",
    "def recursive_copy(src_dir, dest_dir):\n",
    "    dirs = os.listdir(src_dir)\n",
    "    for div in dirs:\n",
    "        if os.path.isfile(os.path.join(src_dir,div)):\n",
    "            shutil.copy(os.path.join(src_dir,div),os.path.join(dest_dir,div))\n",
    "            print(f\"Copying {os.path.join(src_dir,div)} to {os.path.join(dest_dir,div)}\")\n",
    "        else:\n",
    "            os.mkdir(os.path.join(dest_dir,div))\n",
    "            recursive_copy(os.path.join(src_dir,div),os.path.join(dest_dir,div))"
   ]
  },
  {
   "cell_type": "code",
   "execution_count": 7,
   "id": "a201af4f-f310-4a40-b2ee-f87836a39615",
   "metadata": {},
   "outputs": [
    {
     "name": "stdout",
     "output_type": "stream",
     "text": [
      "Copying static/images/tolkien.png to public/images/tolkien.png\n",
      "Copying static/index.css to public/index.css\n"
     ]
    }
   ],
   "source": [
    "static_to_public()"
   ]
  },
  {
   "cell_type": "code",
   "execution_count": 12,
   "id": "732e62f1-afae-446a-8bd0-5589494a5e77",
   "metadata": {},
   "outputs": [
    {
     "data": {
      "text/plain": [
       "7"
      ]
     },
     "execution_count": 12,
     "metadata": {},
     "output_type": "execute_result"
    }
   ],
   "source": [
    "len(lines)\n"
   ]
  },
  {
   "cell_type": "code",
   "execution_count": 13,
   "id": "d6ac8480-ea9b-4042-a022-01dc8d28ad83",
   "metadata": {},
   "outputs": [
    {
     "data": {
      "text/plain": [
       "range(0, 7)"
      ]
     },
     "execution_count": 13,
     "metadata": {},
     "output_type": "execute_result"
    }
   ],
   "source": [
    "range(len(lines))"
   ]
  },
  {
   "cell_type": "code",
   "execution_count": 1,
   "id": "7352f82f-a3f4-44c3-9965-1efa10351a09",
   "metadata": {},
   "outputs": [],
   "source": [
    "import os \n"
   ]
  },
  {
   "cell_type": "code",
   "execution_count": 4,
   "id": "dd98a296-47f9-4284-9ed4-2b469d186098",
   "metadata": {},
   "outputs": [
    {
     "name": "stdout",
     "output_type": "stream",
     "text": [
      "hello\n"
     ]
    }
   ],
   "source": [
    "if os.path.exists(\"static\"):\n",
    "    print(\"hello\")\n",
    "    "
   ]
  },
  {
   "cell_type": "code",
   "execution_count": 1,
   "id": "f07d0a09-fa88-49ee-af13-41badf3f62ee",
   "metadata": {},
   "outputs": [],
   "source": [
    "def extract_title(markdown):\n",
    "    lines = markdown.split(\"\\n\")\n",
    "    for line in lines:\n",
    "        if line.strip().startswith(\"# \"):\n",
    "            return line[2:]\n",
    "    raise Exception(\"No Header found\")"
   ]
  },
  {
   "cell_type": "code",
   "execution_count": 2,
   "id": "58acbc4f",
   "metadata": {},
   "outputs": [],
   "source": [
    "x = \"\"\"# Tolkien Fan Club\n",
    "\n",
    "![JRR Tolkien sitting](/images/tolkien.png)\n",
    "\n",
    "Here's the deal, **I like Tolkien**.\n",
    "\n",
    "> \"I am in fact a Hobbit in all but size.\"\n",
    ">\n",
    "> -- J.R.R. Tolkien\n",
    "\n",
    "## Blog posts\n",
    "\n",
    "- [Why Glorfindel is More Impressive than Legolas](/blog/glorfindel)\n",
    "- [Why Tom Bombadil Was a Mistake](/blog/tom)\n",
    "- [The Unparalleled Majesty of \"The Lord of the Rings\"](/blog/majesty)\n",
    "\n",
    "## Reasons I like Tolkien\n",
    "\n",
    "- You can spend years studying the legendarium and still not understand its depths\n",
    "- It can be enjoyed by children and adults alike\n",
    "- Disney _didn't ruin it_ (okay, but Amazon might have)\n",
    "- It created an entirely new genre of fantasy\n",
    "\n",
    "## My favorite characters (in order)\n",
    "\n",
    "1. Gandalf\n",
    "2. Bilbo\n",
    "3. Sam\n",
    "4. Glorfindel\n",
    "5. Galadriel\n",
    "6. Elrond\n",
    "7. Thorin\n",
    "8. Sauron\n",
    "9. Aragorn\n",
    "\n",
    "Here's what `elflang` looks like (the perfect coding language):\n",
    "\n",
    "```\n",
    "func main(){\n",
    "    fmt.Println(\"Aiya, Ambar!\")\n",
    "}\n",
    "```\n",
    "\n",
    "Want to get in touch? [Contact me here](/contact).\n",
    "\n",
    "This site was generated with a custom-built [static site generator](https://www.boot.dev/courses/build-static-site-generator-python) from the course on [Boot.dev](https://www.boot.dev).\"\"\""
   ]
  },
  {
   "cell_type": "code",
   "execution_count": 3,
   "id": "9cc5aff2",
   "metadata": {},
   "outputs": [
    {
     "name": "stdout",
     "output_type": "stream",
     "text": [
      "Tolkien Fan Club\n"
     ]
    }
   ],
   "source": [
    "print(extract_title(x))"
   ]
  },
  {
   "cell_type": "code",
   "execution_count": null,
   "id": "1a48965d",
   "metadata": {},
   "outputs": [],
   "source": []
  }
 ],
 "metadata": {
  "kernelspec": {
   "display_name": "Python 3",
   "language": "python",
   "name": "python3"
  },
  "language_info": {
   "codemirror_mode": {
    "name": "ipython",
    "version": 3
   },
   "file_extension": ".py",
   "mimetype": "text/x-python",
   "name": "python",
   "nbconvert_exporter": "python",
   "pygments_lexer": "ipython3",
   "version": "3.10.17"
  }
 },
 "nbformat": 4,
 "nbformat_minor": 5
}
