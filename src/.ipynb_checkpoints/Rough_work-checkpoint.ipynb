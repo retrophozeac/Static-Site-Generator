{
 "cells": [
  {
   "cell_type": "code",
   "execution_count": 10,
   "id": "a98aad04-58ba-49cd-82f7-4c35518e0b7e",
   "metadata": {},
   "outputs": [],
   "source": [
    "import re\n",
    "\n",
    "text = \"This is text with a link [to boot dev](https://www.boot.dev) and [to youtube](https://www.youtube.com/@bootdotdev)\"\n",
    "lines = re.split(r\"(?<!!)\\[([^\\[\\]]*)\\]\\(([^\\(\\)]*)\\)\",text)"
   ]
  },
  {
   "cell_type": "code",
   "execution_count": 3,
   "id": "aeaf1ee6-dc63-4447-a63d-cae35da5d12b",
   "metadata": {},
   "outputs": [],
   "source": []
  },
  {
   "cell_type": "code",
   "execution_count": 11,
   "id": "a201af4f-f310-4a40-b2ee-f87836a39615",
   "metadata": {},
   "outputs": [
    {
     "data": {
      "text/plain": [
       "['This is text with a link ',\n",
       " 'to boot dev',\n",
       " 'https://www.boot.dev',\n",
       " ' and ',\n",
       " 'to youtube',\n",
       " 'https://www.youtube.com/@bootdotdev',\n",
       " '']"
      ]
     },
     "execution_count": 11,
     "metadata": {},
     "output_type": "execute_result"
    }
   ],
   "source": [
    "lines"
   ]
  },
  {
   "cell_type": "code",
   "execution_count": 12,
   "id": "732e62f1-afae-446a-8bd0-5589494a5e77",
   "metadata": {},
   "outputs": [
    {
     "data": {
      "text/plain": [
       "7"
      ]
     },
     "execution_count": 12,
     "metadata": {},
     "output_type": "execute_result"
    }
   ],
   "source": [
    "len(lines)\n"
   ]
  },
  {
   "cell_type": "code",
   "execution_count": 13,
   "id": "d6ac8480-ea9b-4042-a022-01dc8d28ad83",
   "metadata": {},
   "outputs": [
    {
     "data": {
      "text/plain": [
       "range(0, 7)"
      ]
     },
     "execution_count": 13,
     "metadata": {},
     "output_type": "execute_result"
    }
   ],
   "source": [
    "range(len(lines))"
   ]
  },
  {
   "cell_type": "code",
   "execution_count": null,
   "id": "7352f82f-a3f4-44c3-9965-1efa10351a09",
   "metadata": {},
   "outputs": [],
   "source": []
  }
 ],
 "metadata": {
  "kernelspec": {
   "display_name": "Python 3 (ipykernel)",
   "language": "python",
   "name": "python3"
  },
  "language_info": {
   "codemirror_mode": {
    "name": "ipython",
    "version": 3
   },
   "file_extension": ".py",
   "mimetype": "text/x-python",
   "name": "python",
   "nbconvert_exporter": "python",
   "pygments_lexer": "ipython3",
   "version": "3.13.1"
  }
 },
 "nbformat": 4,
 "nbformat_minor": 5
}
